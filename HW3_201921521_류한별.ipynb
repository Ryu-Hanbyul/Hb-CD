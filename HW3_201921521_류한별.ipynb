{
 "cells": [
  {
   "cell_type": "markdown",
   "id": "d2c4d95a",
   "metadata": {},
   "source": [
    "### HW3_201921521_류한별"
   ]
  },
  {
   "cell_type": "markdown",
   "id": "cd403e4e",
   "metadata": {},
   "source": [
    "# 텍스트 마이닝\n",
    "### 텍스트 마이닝이란?\n",
    "- 일정한 길이의 벡터로 변환하는 것\n",
    "- 변환된 벡터에 머신러닝 기법을 적용하는 것\n",
    "\n",
    "### 텍스트 마이닝 방법\n",
    "- NLP기본도구\n",
    "- 머신러닝(딥러닝)\n",
    "\n",
    "### 텍스트 마이닝 도구(파이썬)\n",
    "- NLTK:가장 많이 알려진 NLP라이브러리\n",
    "- Scikit Learn:머신러닝 라이브러리로 기본적인 NLP, 다양한 텍스트 마이닝 관련 도구를 지원한다.\n",
    "- Gensim :Word2Vec으로 유명, sklearn과 마찬가지로 다양한 텍스트 관련 도구 지원\n",
    "- Keras: RNN, seq2seq 등 딥러닝 위주의 라이브러리 제공\n",
    "\n",
    "### 텍스트 마이닝 기본도구\n",
    "- Tokenize:대상이 되는 문서/문장을 최소 단위로 쪼갬\n",
    "- Text normalization: 최소 단위를 표준화\n",
    "- POS-tagging: 최소 의미단위로 나누어진 대상에 대해 품사를 부착\n",
    "- Chunking: POS-tagging의 결과를 명사구, 형용사구, 분사구 등과 같은 말모듬으로 다시 합치는 과정\n",
    "- BOW, TFIDF: tokenized 결과를 이용하여 문서를 vector로 표현\n",
    "\n",
    "#### Tokenize\n",
    "- Document를 Sentence의 집합으로 분리\n",
    "- Sentence를 Word의 집합으로 분리\n",
    "- 의미 없는 문자 등을 걸러 냄\n",
    "\n",
    "#### Text normalization\n",
    "- 동일한 의미의 다른 단어가 다른 형태를 갖는 것을 보완한다.\n",
    " -  다른 형태의 단어를 통일시켜 표준 단어로 변환\n",
    "- 단어의 다양한 변형을 하나로 통일한다.\n",
    "- 사전을 이용하여 단어의 원형을 추출한다.\n",
    "\n",
    "#### POS-tagging\n",
    "- 토큰화와 정규화를 통해 나누어진 형태소에 대해 품사를 결정하여 할당하는 작업이다.\n",
    "- 품사를 알기 위해서는 문맥을 파악해야 한다.\n",
    "- 각 단어에 대해 올바른 발음을 하기 위해 품사태깅을 이용함\n",
    "- 형태소 분석으로 번역되기도 한다.\n",
    "\n",
    "#### Chunking\n",
    "- 주어와 동사가 없는 두 단어 이상의 집합인 구를 의미한다.\n",
    "- 주어진 텍스트에서 이와 같은 chunk를 찾는 과정이다.\n",
    "- 분석결과인 형태소들을 겹치지 않으며 의미있는 구로 묶는 과정\n",
    "- 정보추출을 하기 위한 전단계 혹은 정보추출에 포함되기도 한다.\n",
    "\n"
   ]
  },
  {
   "cell_type": "markdown",
   "id": "68a0d014",
   "metadata": {},
   "source": [
    "### Logistic Regression\n",
    "- 분류를 위한 회귀분석 \n",
    " - 종속변수와 대립변수간의 관계를 구체적인 함수로 나타내 예측모델에 사용한다.\n",
    " - 종속변수가 범주형 데이터를 대상으로 하며 입력 데이터가 주어졌을 때 결과가 나뉘기 때문에 일종의 분류 기법에 해당한다.\n",
    "- 텍스트 마이닝에서의문제\n",
    " - 추정해야 할 계수기 벡터의 크기만큼 존재해 과적합이 발생하기 쉽고 많은 데이터셋이 필요하다.\n",
    " - 정규화를 이용해 과적합 해결 노력\n",
    " \n",
    "####  Ridge and Lasso Regression\n",
    "- 릿지 회귀\n",
    " - 목적함수에 추정할 계수에 대한 규제항을 추가하여 과적합을 방지\n",
    "- 라쏘 회귀\n",
    " - 남은 단어들로 분류의 이유에 대해 설명이 가능하다는 장점이 있다.\n",
    " \n",
    "#### 문서분류의 활용\n",
    "- 네이버 지식백과\n",
    " - 소비자의 감성과 관련된 텍스트 정보를 자동으로 추출하는 텍스트 마이닝 기술의 영역\n",
    " \n",
    "### 잠재 의미 분석\n",
    "- 문서 간의 유사도\n",
    " - Count vector나 TFIDF에 cosine similarity를 직접 적용하는 경우, 물리적인 단어로만 유사도를 측정하게 된다.\n",
    " - 직접적인 단어가 아니라 의미적으로 유사한(문서에서 함께 많이 등장한) 단어들로 유사도를 측정하는 것이 가능할 것으로 기대\n",
    " \n",
    "- 단어 간의 유사도\n",
    " - 주어진 문서 집합에서 단어들이 어떤 유사도를 가지는지 볼 수 있다.\n",
    " "
   ]
  },
  {
   "cell_type": "markdown",
   "id": "b73994c0",
   "metadata": {},
   "source": [
    "#### Topic Modeling\n",
    "- 주제를 의미하는 용어로 사용된다.\n",
    "- 문서들이 특정한 주제에 속할 확률분포와 주제로부터 특정 단어들이 파생되어 나올 확률분포가 주어졌을 때, 이 두 확률분포를 조합하여 각 문서에 들어가는 단어의 확률분포를 계산한다.\n",
    "- θ: 문서들이 각 주제들에 속할 확률분포\n",
    " - 디리클레분포의 매개변수인 <알파>에 의해 결정\n",
    "- N: 특정 문서에 속한 단어의 집합\n",
    "- M: 전체 문서의 집합\n",
    "- z: 문서 내의 단어들이 주제들에 속할 확률분포\n",
    " - θ에 의한 다항분포로 선택\n",
    "- β: 각 주제가 특정 단어를 생성할 확률을 나타내는 확률분포\n",
    "- z와 β에 의해 실제 문서들의 단어분포인 w가 결정\n",
    "- w만이 실제로 문서들을 통해 주어진 분포, 나머지는 모두 잠재변수\n",
    "- LDA 알고리즘에서는 주어진 문서와 토픽들의 사전확률 분포인 α와 토픽 내에서 단어의 사전확률분포인 β의 파라미터 값을 활용해 반복적인 시뮬레이션을 통해 z와 θ를추정\n",
    "\n",
    "#### Word Embedding\n",
    "- 단어에 대한 벡터의 dimension reduction이 목표\n",
    "- 단어 표현\n",
    " - Term-Document Matrix에서 Document 별 count vector\n",
    " - 일반화가 어려움\n",
    " - one-hot-encoding: extremely sparse\n",
    "- one-hot-encoding으로 표현된 단어를 dense vector로 변환\n",
    "- 변환된 vector를 이용하여 학습\n",
    "- 최종목적에 맞게 학습에 의해 벡터가 결정된다.\n",
    "- 학습목적 관점에서의 단어 의미를 내포한다.\n",
    "\n",
    "#### One hot encoding\n",
    "- 각 단어를 모든 문서에서 사용된 단어들의 수 길이의 벡터로 표현\n",
    "#### Word2Vec\n",
    "- 문장에 나타난 단어들의 순서를 이용해 word embedding을 수행한다.\n",
    "- 단어의 위치에 기반하여 의미를 내포하는 벡터를 생성한다.\n",
    " - 비슷한 위치에 나타나는 단어들은 비슷한 벡터를 가지게 된다.\n",
    " - 단어 간의 유사성을 이용하여 연산이 가능하다.\n",
    "#### ELMo (Embeddings from Language Model)\n",
    "- 사전 훈련된 언어모델을 사용하는 워드 임베딩 방법론.\n",
    "- 문맥을 반영하기 위해 개발된 워드 임베딩 기법\n",
    "- 문맥 파악을 위해 biLSTM으로 학습된 모형을 이용한다.\n",
    "\n",
    "#### Document Embedding\n",
    "- 단어에 대해 dense vector를 생성하지만 dense vector는 여전히 sparse이다.\n",
    "- 주변 단어들에 더하여 고유한 벡터를 함께 학습함으로써 dense vector를 생성한다.\n",
    "- dense vector를 이용해 매칭, 분류 등의 작업을 수행한다.\n",
    "#### RBM (Restricted Boltzmann Machine)\n",
    "- 사전학습을 목적으로 개발\n",
    "- vanishing gradient 문제 해결을 위해 제안\n",
    "- 사전학습을 통한 차원 축소에 사용가능\n",
    "\n",
    "#### Autoencoder\n",
    "- RBM과 유사한 개념이며 작동방식은 PCA와 유사하다.\n",
    "\n",
    "#### LSTM (Long Short Term Memory)\n",
    "- RNN의 문제\n",
    " - 문장이 길수록 층이 깊은 형태를 갖게 됨- 경사가 소실되는 문제 발생 - 앞부분의 단어 정보가 학습되지 않음\n",
    "- LSTM: 직통 통로를 만들어 RNN의 문제를 해결\n",
    "\n",
    "#### Bi-LSTM\n",
    "- 단방향 LSTM의 문제\n",
    " - 단어 순서가 갖는 문맥정보가 한 방향으로만 학습된다. \n",
    " - 자신의 뒤에 오는 단어에 의해 영향을 받는 경우,학습이 되지 않음\n",
    "- Bi-LSTM\n",
    " - 양방향으로 LSTM을 구성하여 두 결과를 합침\n",
    " - 양방향 순서를 모두 학습\n",
    " \n",
    "#### 합성곱 신경망(Convolutional Neural Networks,CNN)\n",
    "- 이미지 처리를 위해 개발된 신경망으로 인간의 이미지 인식보다 더 나은 인식성능을 보임\n",
    "- 주변정보를 학습한다는 점에서 자연어 처리에서의 활용분야가 넓어짐\n",
    "- 합성곱층과 풀링층으로 구성\n",
    "- 합성곱층은 2차원 이미지에서 특정영역의 특징을 추출하는 역할=연속된 단어의 특징을 추출하는 것과 유사한 특성\n",
    "\n",
    "#### Attention\n",
    "- 출력에 나온 어떤 단어는 입력에 있는 특정 단어들에 민감한 것에 착안\n",
    "- 입력의 단어들로부터 출력 단어에 직접 링크를 만든다.\n"
   ]
  },
  {
   "cell_type": "markdown",
   "id": "261bfc6f",
   "metadata": {},
   "source": [
    "# 웹 크롤링1 - Static Crawling\n",
    "\n",
    "## 1. urllib\n",
    "- 파이썬은 웹 사이트에 있는 데이터를 추출하기 위해 urllib 라이브러리 사용\n",
    "- 이를 이용해 HTTP 또는 FTP를 사용해 데이터 다운로드 가능\n",
    "- urllib은 URL을 다루는 모듈을 모아 놓은 패키지\n",
    "- urllib.request 모듈은 웹 사이트에 있는 데이터에 접근하는 기능 제공, 또한 인증, 리다렉트, 쿠키처럼 인터넷을 이용한 다양한 요청과 처리가 가능\n"
   ]
  },
  {
   "cell_type": "code",
   "execution_count": 1,
   "id": "4fcb2a94",
   "metadata": {},
   "outputs": [],
   "source": [
    "from urllib import request"
   ]
  },
  {
   "cell_type": "markdown",
   "id": "1c8fc8d4",
   "metadata": {},
   "source": [
    "### 1.1. urllib.request를 이용한 다운로드\n",
    "- urllib.request 모듈에 있는 urlretrieve() 함수 이용\n",
    "- 다음의 코드는 PNG 파일을 test.png 라는 이름의 파일로 저장하는 예제임"
   ]
  },
  {
   "cell_type": "code",
   "execution_count": 2,
   "id": "e932012a",
   "metadata": {},
   "outputs": [
    {
     "name": "stdout",
     "output_type": "stream",
     "text": [
      "저장되었습니다\n"
     ]
    }
   ],
   "source": [
    "# 라이브러리 읽어들이기 \n",
    "from urllib import request\n",
    "\n",
    "url=\"http://uta.pw/shodou/img/28/214.png\"\n",
    "savename=\"test.png\"\n",
    "\n",
    "request.urlretrieve(url, savename)\n",
    "print(\"저장되었습니다\")"
   ]
  },
  {
   "cell_type": "markdown",
   "id": "8c35c8ed",
   "metadata": {},
   "source": [
    "### 1.2. urlopen으로 파일에 저장하는 방법\n",
    "- request.urlopen()은 메모리에 데이터를 올린 후 파일에 저장하게 된다."
   ]
  },
  {
   "cell_type": "code",
   "execution_count": 3,
   "id": "fa5783de",
   "metadata": {},
   "outputs": [
    {
     "name": "stdout",
     "output_type": "stream",
     "text": [
      "저장되었습니다..\n"
     ]
    }
   ],
   "source": [
    "# URL과 저장경로 지정하기\n",
    "url = \"http://uta.pw/shodou/img/28/214.png\"\n",
    "savename = \"test1.png\"\n",
    "#다운로드\n",
    "mem = request.urlopen(url).read()\n",
    "#파일로 저장하기, wb는 쓰기와 바이너리모드\n",
    "with open(savename, mode=\"wb\") as f:\n",
    "    f.write(mem)\n",
    "    print(\"저장되었습니다..\")"
   ]
  },
  {
   "cell_type": "markdown",
   "id": "f5cbc66b",
   "metadata": {},
   "source": [
    "### 1.3. API 사용하기\n",
    "#### 클라이언트 접속 정보 출력 (기본)\n",
    "- API는 사용자의 요청에 따라 정보를 반환하는 프로그램\n",
    "- IP 주소, UserAgent 등 클라이언트 접속정보 출력하는 \"IP 확인API\" 접근해서 정보를 추출하는 프로그램"
   ]
  },
  {
   "cell_type": "code",
   "execution_count": 4,
   "id": "4f08257e",
   "metadata": {},
   "outputs": [
    {
     "name": "stdout",
     "output_type": "stream",
     "text": [
      "[ip]\n",
      "API_URI=http://api.aoikujira.com/ip/get.php\n",
      "REMOTE_ADDR=112.168.120.158\n",
      "REMOTE_HOST=112.168.120.158\n",
      "REMOTE_PORT=48308\n",
      "HTTP_HOST=api.aoikujira.com\n",
      "HTTP_USER_AGENT=Python-urllib/3.8\n",
      "HTTP_ACCEPT_LANGUAGE=\n",
      "HTTP_ACCEPT_CHARSET=\n",
      "SERVER_PORT=80\n",
      "FORMAT=ini\n",
      "\n",
      "\n"
     ]
    }
   ],
   "source": [
    "#데이터 읽어들이기\n",
    "url=\"http://api.aoikujira.com/ip/ini\"\n",
    "res=request.urlopen(url)\n",
    "data=res.read()\n",
    "\n",
    "#바이너리를 문자열로 변환하기\n",
    "text=data.decode(\"utf-8\")\n",
    "print(text)"
   ]
  },
  {
   "cell_type": "markdown",
   "id": "67d779b4",
   "metadata": {},
   "source": [
    "## 2. BeautifulSoup\n",
    "- 스크레이핑(Scraping or Crawling)이란 웹 사이트에서 데이터를 추출하고, 원하는 정보를 추출하는 것을 의미\n",
    "- BeautifulSoup란 파이썬으로 스크레이핑할 때 사용되는 라이브러리로서 HTML/XML에서 정보를 추출할 수 있도록 도와줌. 그러나 다운로드 기능은 없음.\n",
    "- 파이썬 라이브러리는 pip 명령어를 이용해 설치 가능. Python Package Index(PyPI)에 있는 패키지 명령어를 한줄로 설치 가능\n",
    " - URL (http://pypi.python.org/pypi)"
   ]
  },
  {
   "cell_type": "markdown",
   "id": "446112d2",
   "metadata": {},
   "source": [
    "### 패키지 import 및 예제 HTML"
   ]
  },
  {
   "cell_type": "code",
   "execution_count": 5,
   "id": "ca7dd8d6",
   "metadata": {},
   "outputs": [],
   "source": [
    "from bs4 import BeautifulSoup\n",
    "html = \"\"\"\n",
    "<html><body>\n",
    "  <h1>스크레이핑이란?</h1>\n",
    "  <p>웹 페이지를 분석하는 것</p>\n",
    "  <p>원하는 부분을 추출하는 것</p>\n",
    "</body></html>\n",
    "\"\"\""
   ]
  },
  {
   "cell_type": "markdown",
   "id": "4f3b5183",
   "metadata": {},
   "source": [
    "### 2.1. 기본 사용\n",
    "- 다음은 Beautifulsoup를 이용하여 웹사이트로부터 HTML을 가져와 문자열로 만들어 이용하는 예제임\n",
    "\n",
    "- h1 태그를 접근하기 위해 html-body-h1 구조를 사용하여 soup.html.body.h1 이런식으로 이용하게 됨.\n",
    "\n",
    "- p 태그는 두개가 있어 soup.html.body.p 한 후 next_sibling을 두번 이용하여 다음 p를 추출. 한번만 하면 그 다음 공백이 추출됨.\n",
    "- HTML 태그가 복잡한 경우 이런 방식으로 계속 진행하기는 적합하지 않음.\n",
    "\n",
    "#### 2) HTML 분석하기"
   ]
  },
  {
   "cell_type": "code",
   "execution_count": 6,
   "id": "bf827bd3",
   "metadata": {},
   "outputs": [],
   "source": [
    "soup = BeautifulSoup(html, 'html.parser')\n"
   ]
  },
  {
   "cell_type": "markdown",
   "id": "4e5b4274",
   "metadata": {},
   "source": [
    "#### 3) 원하는 부분 추출하기"
   ]
  },
  {
   "cell_type": "code",
   "execution_count": 7,
   "id": "269cd6ec",
   "metadata": {},
   "outputs": [],
   "source": [
    "h1 = soup.html.body.h1\n",
    "p1 = soup.html.body.p\n",
    "p2 = p1.next_sibling.next_sibling"
   ]
  },
  {
   "cell_type": "markdown",
   "id": "6beb6f75",
   "metadata": {},
   "source": [
    "#### 4) 요소의 글자 출력하기"
   ]
  },
  {
   "cell_type": "code",
   "execution_count": 8,
   "id": "5ba485fb",
   "metadata": {},
   "outputs": [
    {
     "name": "stdout",
     "output_type": "stream",
     "text": [
      "h1 = 스크레이핑이란?\n",
      "p  = 웹 페이지를 분석하는 것\n",
      "p  = 원하는 부분을 추출하는 것\n"
     ]
    }
   ],
   "source": [
    "print(f\"h1 = {h1.string}\")\n",
    "print(f\"p  = {p1.string}\")\n",
    "print(f\"p  = {p2.string}\")"
   ]
  },
  {
   "cell_type": "markdown",
   "id": "ab0b88f1",
   "metadata": {},
   "source": [
    "### 2.2. 요소를 찾는 method\n",
    "#### 단일 element 추출: find()\n",
    "BeautifulSoup는 루트부터 하나하나 요소를 찾는 방법 말고도 find()라는 메소드를 제공함"
   ]
  },
  {
   "cell_type": "code",
   "execution_count": 9,
   "id": "d9e96c9e",
   "metadata": {},
   "outputs": [],
   "source": [
    "soup = BeautifulSoup(html, 'html.parser')"
   ]
  },
  {
   "cell_type": "markdown",
   "id": "8710254d",
   "metadata": {},
   "source": [
    "- 1) find() 메서드로 원하는 부분 추출하기"
   ]
  },
  {
   "cell_type": "code",
   "execution_count": 10,
   "id": "e60e40df",
   "metadata": {},
   "outputs": [
    {
     "name": "stdout",
     "output_type": "stream",
     "text": [
      "<h1>스크레이핑이란?</h1>\n"
     ]
    }
   ],
   "source": [
    "title = soup.find(\"h1\")\n",
    "body  = soup.find(\"p\")\n",
    "print(title)"
   ]
  },
  {
   "cell_type": "markdown",
   "id": "62764932",
   "metadata": {},
   "source": [
    "- 2) 텍스트 부분 출력하기"
   ]
  },
  {
   "cell_type": "code",
   "execution_count": 11,
   "id": "c177c18a",
   "metadata": {},
   "outputs": [
    {
     "name": "stdout",
     "output_type": "stream",
     "text": [
      "#title = 스크레이핑이란?\n",
      "#body = 웹 페이지를 분석하는 것\n"
     ]
    }
   ],
   "source": [
    "print(f\"#title = {title.string}\" )\n",
    "print(f\"#body = {body.string}\")"
   ]
  },
  {
   "cell_type": "markdown",
   "id": "31fc7c6d",
   "metadata": {},
   "source": [
    "### 복수 elements 추출: find_all()\n",
    "여러개의 태그를 한번에 추출하고자 할때 사용함. 다음의 예제에서는 여러개의 태그를 추출하는 법을 보여주고 있음"
   ]
  },
  {
   "cell_type": "code",
   "execution_count": 12,
   "id": "d49ef79a",
   "metadata": {},
   "outputs": [],
   "source": [
    "html = \"\"\"\n",
    "<html><body>\n",
    "  <ul>\n",
    "    <li><a href=\"http://www.naver.com\">naver</a></li>\n",
    "    <li><a href=\"http://www.daum.net\">daum</a></li>\n",
    "  </ul>\n",
    "</body></html>\n",
    "\"\"\"\n",
    "\n",
    "soup = BeautifulSoup(html, 'html.parser')"
   ]
  },
  {
   "cell_type": "markdown",
   "id": "bce77bd5",
   "metadata": {},
   "source": [
    "- 1) find_all() 메서드로 추출하기"
   ]
  },
  {
   "cell_type": "code",
   "execution_count": 13,
   "id": "c5b21f25",
   "metadata": {},
   "outputs": [
    {
     "name": "stdout",
     "output_type": "stream",
     "text": [
      "[<a href=\"http://www.naver.com\">naver</a>, <a href=\"http://www.daum.net\">daum</a>] 2\n"
     ]
    }
   ],
   "source": [
    "links = soup.find_all(\"a\")\n",
    "print(links, len(links))"
   ]
  },
  {
   "cell_type": "markdown",
   "id": "fd6974c6",
   "metadata": {},
   "source": [
    "- 2) 링크 목록 출력하기"
   ]
  },
  {
   "cell_type": "code",
   "execution_count": 14,
   "id": "d82d5a5e",
   "metadata": {},
   "outputs": [
    {
     "name": "stdout",
     "output_type": "stream",
     "text": [
      "naver > http://www.naver.com\n",
      "daum > http://www.daum.net\n"
     ]
    }
   ],
   "source": [
    "for a in links:\n",
    "    href = a.attrs['href'] # href의 속성에 있는 속성값을 추출\n",
    "    text = a.string \n",
    "    print(text, \">\", href)"
   ]
  },
  {
   "cell_type": "markdown",
   "id": "8e8e0be2",
   "metadata": {},
   "source": [
    "## 3. Css Selector\n",
    "Css Selector란, 웹상의 요소에 css를 적용하기 위한 문법으로, 즉 요소를 선택하기 위한 패턴입니다.\n",
    "\n",
    "출처: https://www.w3schools.com/cssref/css_selectors.asp\n",
    "\n",
    "앞서 간단하게 태그를 사용하여 데이터를 추출하는 방법에 대해서 살펴보았습니다.\n",
    "\n",
    "하지만 복잡하게 구조화된 웹 사이트에서 자신이 원하는 데이터를 가져오기 위해서는 Css Selector에 대한 이해가 필요합니다.\n",
    "\n",
    "### BeautifulSoup에서 Css Selector 사용하기\n",
    "BeautifulSoup에서는 Css Selector로 값을 가져올 수 있도록 find와는 다른 다음과 같은 메서드를 제공합니다."
   ]
  },
  {
   "cell_type": "code",
   "execution_count": 15,
   "id": "9a2bd865",
   "metadata": {},
   "outputs": [],
   "source": [
    "html = \"\"\"\n",
    "<html><body>\n",
    "<div id=\"meigen\">\n",
    "  <h1>위키북스 도서</h1>\n",
    "  <ul class=\"items\">\n",
    "    <li>유니티 게임 이펙트 입문</li>\n",
    "    <li>스위프트로 시작하는 아이폰 앱 개발 교과서</li>\n",
    "    <li>모던 웹사이트 디자인의 정석</li>\n",
    "  </ul>\n",
    "</div>\n",
    "</body></html>\n",
    "\"\"\"\n",
    "\n",
    "# HTML 분석하기 \n",
    "soup = BeautifulSoup(html, 'html.parser')"
   ]
  },
  {
   "cell_type": "markdown",
   "id": "78963923",
   "metadata": {},
   "source": [
    "- 필요한 부분을 CSS 쿼리로 추출하기"
   ]
  },
  {
   "cell_type": "code",
   "execution_count": 16,
   "id": "2a1f582b",
   "metadata": {},
   "outputs": [
    {
     "name": "stdout",
     "output_type": "stream",
     "text": [
      "h1 = 위키북스 도서\n",
      "li = 유니티 게임 이펙트 입문\n",
      "li = 스위프트로 시작하는 아이폰 앱 개발 교과서\n",
      "li = 모던 웹사이트 디자인의 정석\n"
     ]
    }
   ],
   "source": [
    "# 타이틀 부분 추출하기 --- (※3)\n",
    "h1 = soup.select_one(\"div#meigen > h1\").string\n",
    "print(f\"h1 = {h1}\")\n",
    "\n",
    "# 목록 부분 추출하기 --- (※4)\n",
    "li_list = soup.select(\"div#meigen > ul.items > li\")\n",
    "for li in li_list:\n",
    "  print(f\"li = {li.string}\")\n"
   ]
  },
  {
   "cell_type": "markdown",
   "id": "a51f9b94",
   "metadata": {},
   "source": [
    "## 4. 활용 예제\n",
    "앞서 배운 urllib과 BeautifulSoup를 조합하면, 웹스크레이핑 및 API 요청 작업을 쉽게 수행하실 수 있습니다.\n",
    "\n",
    " 1. URL을 이용하여 웹으로부터 html을 읽어들임 (urllib)\n",
    " 2. html 분석 및 원하는 데이터를 추출 (BeautifulSoup)"
   ]
  },
  {
   "cell_type": "code",
   "execution_count": 18,
   "id": "cb78541e",
   "metadata": {},
   "outputs": [],
   "source": [
    "from bs4 import BeautifulSoup\n",
    "from urllib import request, parse\n"
   ]
  },
  {
   "cell_type": "markdown",
   "id": "dacbbff7",
   "metadata": {},
   "source": [
    "### 4.1. 네이버 금융 - 환율 정보\n",
    "- 다양한 금융 정보가 공개돼 있는 \"네이버 금융\"에서 원/달러 환율 정보를 추출해보자!\n",
    "- 네이버 금융의 시장 지표 페이지 https://finance.naver.com/marketindex/\n",
    "- 다음은 원/달러 환율 정보를 추출하는 프로그램임\n",
    "\n",
    "### 1) HTML 가져오기"
   ]
  },
  {
   "cell_type": "code",
   "execution_count": 19,
   "id": "053f249b",
   "metadata": {},
   "outputs": [],
   "source": [
    "url = \"https://finance.naver.com/marketindex/\"\n",
    "res = request.urlopen(url)"
   ]
  },
  {
   "cell_type": "markdown",
   "id": "6d1568b5",
   "metadata": {},
   "source": [
    "### 2) HTML 분석하기"
   ]
  },
  {
   "cell_type": "code",
   "execution_count": 20,
   "id": "5b3a6af8",
   "metadata": {},
   "outputs": [],
   "source": [
    "soup = BeautifulSoup(res, \"html.parser\")"
   ]
  },
  {
   "cell_type": "markdown",
   "id": "ce92daf8",
   "metadata": {},
   "source": [
    "### 3) 원하는 데이터 추출하기"
   ]
  },
  {
   "cell_type": "code",
   "execution_count": 21,
   "id": "c6edd56a",
   "metadata": {},
   "outputs": [
    {
     "name": "stdout",
     "output_type": "stream",
     "text": [
      "usd/krw = 1,178.00\n"
     ]
    }
   ],
   "source": [
    "price = soup.select_one(\"div.head_info > span.value\").string\n",
    "print(\"usd/krw =\", price)"
   ]
  },
  {
   "cell_type": "markdown",
   "id": "3ab8af41",
   "metadata": {},
   "source": [
    "### 4.2. 기상청 RSS\n",
    "- 기상청 RSS에서 특정 내용을 추출하는 예제\n",
    "- 기상청 RSS에서 XML 데이터를 추출하고 XML 내용을 출력\n",
    "- 기상청의 RSS 서비스에 지역 번호를 지정하여 데이터 요청해보기 http://www.kma.go.kr/weather/forecast/mid-term-rss3.jsp\n",
    " - 참고: 기상청 RSS    http://www.kma.go.kr/weather/lifenindustry/service_rss.jsp\n",
    "- 파이썬으로 요청 전용 매개변수를 만들 때는 urllib.parse 모듈의 urlencode() 함수를 사용해 매개변수를 URL로 인코딩한다.\n",
    "\n",
    "### 1) HTML 가져오기"
   ]
  },
  {
   "cell_type": "code",
   "execution_count": 22,
   "id": "108c9f74",
   "metadata": {},
   "outputs": [
    {
     "name": "stdout",
     "output_type": "stream",
     "text": [
      "url= http://www.kma.go.kr/weather/forecast/mid-term-rss3.jsp?stnId=109\n"
     ]
    }
   ],
   "source": [
    "url = \"http://www.kma.go.kr/weather/forecast/mid-term-rss3.jsp\"\n",
    "\n",
    "#매개변수를 URL로 인코딩한다.\n",
    "values = {\n",
    "    'stnId':'109'\n",
    "}\n",
    "\n",
    "params=parse.urlencode(values)\n",
    "url += \"?\"+params # URL에 매개변수 추가\n",
    "print(\"url=\", url)\n",
    "\n",
    "res = request.urlopen(url)"
   ]
  },
  {
   "cell_type": "markdown",
   "id": "0f17f5ed",
   "metadata": {},
   "source": [
    "### 2) HTML 분석하기"
   ]
  },
  {
   "cell_type": "code",
   "execution_count": 23,
   "id": "169cb466",
   "metadata": {},
   "outputs": [],
   "source": [
    "soup = BeautifulSoup(res, \"html.parser\")"
   ]
  },
  {
   "cell_type": "markdown",
   "id": "a6b20182",
   "metadata": {},
   "source": [
    "### 3) 원하는 데이터 추출하기"
   ]
  },
  {
   "cell_type": "code",
   "execution_count": 24,
   "id": "4450a279",
   "metadata": {},
   "outputs": [
    {
     "name": "stdout",
     "output_type": "stream",
     "text": [
      "서울,경기도 육상중기예보\n",
      "○ (강수) 29일(수)은 비가 내리겠습니다.<br />○ (기온) 이번 예보기간 아침최저기온은 13~20도로 어제(24일, 아침최저기온 13~18도)와 비슷하거나 조금 높겠고, <br />          낮최고기온은 23~28도로 어제(24일, 낮최고기온 26~27도)와 비슷하겠습니다.<br />○ (해상) 서해중부해상의 물결은 0.5~2.0m로 일겠습니다.\n"
     ]
    }
   ],
   "source": [
    "header = soup.find(\"header\")\n",
    "\n",
    "title = header.find(\"title\").text\n",
    "wf = header.find(\"wf\").text\n",
    "\n",
    "print(title)\n",
    "print(wf)"
   ]
  },
  {
   "cell_type": "markdown",
   "id": "b9abd6de",
   "metadata": {},
   "source": [
    "- css selector 기반"
   ]
  },
  {
   "cell_type": "code",
   "execution_count": 25,
   "id": "d9fc87b8",
   "metadata": {},
   "outputs": [
    {
     "name": "stdout",
     "output_type": "stream",
     "text": [
      "서울,경기도 육상중기예보\n",
      "○ (강수) 29일(수)은 비가 내리겠습니다.<br />○ (기온) 이번 예보기간 아침최저기온은 13~20도로 어제(24일, 아침최저기온 13~18도)와 비슷하거나 조금 높겠고, <br />          낮최고기온은 23~28도로 어제(24일, 낮최고기온 26~27도)와 비슷하겠습니다.<br />○ (해상) 서해중부해상의 물결은 0.5~2.0m로 일겠습니다.\n"
     ]
    }
   ],
   "source": [
    "title = soup.select_one(\"header > title\").text\n",
    "wf = header.select_one(\"header wf\").text\n",
    "\n",
    "print(title)\n",
    "print(wf)"
   ]
  },
  {
   "cell_type": "markdown",
   "id": "33a8bc29",
   "metadata": {},
   "source": [
    "### 4.3. 윤동주 작가의 작품 목록\n",
    "- 위키문헌 (https://ko.wikisource.org/wiki) 에 공개되어 있는 윤동주의 작품목록을 가져오기\n",
    "- 윤동주 위키  (https://ko.wikisource.org/wiki/%EC%A0%80%EC%9E%90:%EC%9C%A4%EB%8F%99%EC%A3%BC)\n",
    "- 하늘과 바람과 시 부분을 선택한 후 오른쪽 마우스 이용해 copy selector로 카피하면 다음의 CSS 선택자가 카피됨\n",
    " - #mw-content-text > div > ul:nth-child(6) > li > b > a\n",
    "- nth-child(n) 은 n 번째 요소를 의미 즉 6번째 요소를 의미, #mw-content-text 내부에 있는 url 태그는 모두 작품과 관련된 태그. 따라서 따로 구분할 필요는 없으며 생략해도 됨. BeautifulSoup는 nth-child 지원하지 않음\n",
    " - Recall PR7 Problem1"
   ]
  },
  {
   "cell_type": "code",
   "execution_count": 26,
   "id": "bb07c790",
   "metadata": {},
   "outputs": [
    {
     "name": "stdout",
     "output_type": "stream",
     "text": [
      "- 하늘과 바람과 별과 시\n",
      "- 증보판\n",
      "- 서시\n",
      "- 자화상\n",
      "- 소년\n",
      "- 눈 오는 지도\n",
      "- 돌아와 보는 밤\n",
      "- 병원\n",
      "- 새로운 길\n",
      "- 간판 없는 거리\n",
      "- 태초의 아침\n",
      "- 또 태초의 아침\n",
      "- 새벽이 올 때까지\n",
      "- 무서운 시간\n",
      "- 십자가\n",
      "- 바람이 불어\n",
      "- 슬픈 족속\n",
      "- 눈감고 간다\n",
      "- 또 다른 고향\n",
      "- 길\n",
      "- 별 헤는 밤\n",
      "- 흰 그림자\n",
      "- 사랑스런 추억\n",
      "- 흐르는 거리\n",
      "- 쉽게 씌어진 시\n",
      "- 봄\n",
      "- 참회록\n",
      "- 간(肝)\n",
      "- 위로\n",
      "- 팔복\n",
      "- 못자는밤\n",
      "- 달같이\n",
      "- 고추밭\n",
      "- 아우의 인상화\n",
      "- 사랑의 전당\n",
      "- 이적\n",
      "- 비오는 밤\n",
      "- 산골물\n",
      "- 유언\n",
      "- 창\n",
      "- 바다\n",
      "- 비로봉\n",
      "- 산협의 오후\n",
      "- 명상\n",
      "- 소낙비\n",
      "- 한난계\n",
      "- 풍경\n",
      "- 달밤\n",
      "- 장\n",
      "- 밤\n",
      "- 황혼이 바다가 되어\n",
      "- 아침\n",
      "- 빨래\n",
      "- 꿈은 깨어지고\n",
      "- 산림\n",
      "- 이런날\n",
      "- 산상\n",
      "- 양지쪽\n",
      "- 닭\n",
      "- 가슴 1\n",
      "- 가슴 2\n",
      "- 비둘기\n",
      "- 황혼\n",
      "- 남쪽 하늘\n",
      "- 창공\n",
      "- 거리에서\n",
      "- 삶과 죽음\n",
      "- 초한대\n",
      "- 산울림\n",
      "- 해바라기 얼굴\n",
      "- 귀뚜라미와 나와\n",
      "- 애기의 새벽\n",
      "- 햇빛·바람\n",
      "- 반디불\n",
      "- 둘 다\n",
      "- 거짓부리\n",
      "- 눈\n",
      "- 참새\n",
      "- 버선본\n",
      "- 편지\n",
      "- 봄\n",
      "- 무얼 먹구 사나\n",
      "- 굴뚝\n",
      "- 햇비\n",
      "- 빗자루\n",
      "- 기왓장 내외\n",
      "- 오줌싸개 지도\n",
      "- 병아리\n",
      "- 조개껍질\n",
      "- 겨울\n",
      "- 트루게네프의 언덕\n",
      "- 달을 쏘다\n",
      "- 별똥 떨어진 데\n",
      "- 화원에 꽃이 핀다\n",
      "- 종시\n"
     ]
    }
   ],
   "source": [
    "#뒤의 인코딩 부분은 \"저자:윤동주\"라는 의미입니다.\n",
    "# 따로 입력하지 말고 위키 문헌 홈페이지에 들어간 뒤에 주소를 복사해서 사용하세요.\n",
    "\n",
    "url = \"https://ko.wikisource.org/wiki/%EC%A0%80%EC%9E%90:%EC%9C%A4%EB%8F%99%EC%A3%BC\"\n",
    "res = request.urlopen(url)\n",
    "soup = BeautifulSoup(res, \"html.parser\")\n",
    "\n",
    "# #mw-content-text 바로 아래에 있는 \n",
    "# ul 태그 바로 아래에 있는\n",
    "# li 태그 아래에 있는\n",
    "# a 태그를 모두 선택합니다.\n",
    "a_list = soup.select(\"#mw-content-text   ul > li  a\")\n",
    "for a in a_list:\n",
    "    name = a.string\n",
    "    print(f\"- {name}\", )"
   ]
  },
  {
   "cell_type": "markdown",
   "id": "cb4d176b",
   "metadata": {},
   "source": [
    "# 일반문제\n"
   ]
  },
  {
   "cell_type": "code",
   "execution_count": 27,
   "id": "fe131c5a",
   "metadata": {},
   "outputs": [],
   "source": [
    "from bs4 import BeautifulSoup\n",
    "from urllib import request"
   ]
  },
  {
   "cell_type": "markdown",
   "id": "b4ce8d17",
   "metadata": {},
   "source": [
    "## 1. 네이버 뉴스 헤드라인\n",
    "배운 내용을 바탕으로 네이버 뉴스(https://news.naver.com/)에서 헤드라인 뉴스의 제목을 추출해보고자 합니다.\n",
    "\n",
    " Q: 다음의 코드에 css selector를 추가하여 최신 기사의 헤드라인을 스크레이핑하는 코드를 완성하시오."
   ]
  },
  {
   "cell_type": "code",
   "execution_count": 28,
   "id": "abb7d57a",
   "metadata": {},
   "outputs": [
    {
     "name": "stdout",
     "output_type": "stream",
     "text": [
      "\n",
      "                                        ‘오징어 게임’ 탓 장난전화 ‘폭탄’…“징역형 처벌도 가능”[촉!]\n",
      "                                    \n",
      "\n",
      "                                         실명계좌 무산된 거래소 코인, 뺄까 옮길까··· 투자자 혼란[발칙한 금융]\n",
      "                                    \n",
      "\n",
      "                                        北, 종전선언에 ‘미군철수’ 조건 걸어… 文은 “한미동맹과 무관”\n",
      "                                    \n",
      "\n",
      "                                        쿼드 첫 대면 정상회담…중국 겨냥 \"자유 · 개방 인도태평양\" 역설\n",
      "                                    \n",
      "\n",
      "                                        中 \"모든 코인 거래 불법\"...가상화폐 급락\n",
      "                                    \n"
     ]
    }
   ],
   "source": [
    "url = \"https://news.naver.com/\" #네이버 뉴스 주소\n",
    "\n",
    "res = request.urlopen(url)\n",
    "soup = BeautifulSoup(res, \"html.parser\")\n",
    "\n",
    "selector = \"#today_main_news > div.hdline_news > ul > li > div.hdline_article_tit > a\"\n",
    "\n",
    "for a in soup.select(selector):#최신 기사 헤드라인 스크래핑\n",
    "    title = a.text\n",
    "    print(title)"
   ]
  },
  {
   "cell_type": "markdown",
   "id": "cf798390",
   "metadata": {},
   "source": [
    "## 2. 시민의 소리 게시판\n",
    "다음은 서울시 대공원의 시민의 소리 게시판 입니다.\n",
    "\n",
    "https://www.sisul.or.kr/open_content/childrenpark/qna/qnaMsgList.do?pgno=1\n",
    "\n",
    "해당 페이지에 나타난 게시글들의 제목을 수집하고자 합니다.\n",
    "\n",
    "Q: 다음의 코드에 css selector를 추가하여 해당 페이지에서 게시글의 제목을 스크레이핑하는 코드를 완성하시오. 또한 과제 제출시 하단의 추가 내용을 참고하여 수집한 데이터를 csv 형태로 저장하여 해당 csv 파일도 함께 제출하시오."
   ]
  },
  {
   "cell_type": "code",
   "execution_count": 29,
   "id": "5e29c477",
   "metadata": {},
   "outputs": [
    {
     "name": "stdout",
     "output_type": "stream",
     "text": [
      "['어린이를 위한 공원내 식당에 아기를 위한 시설 부족(아기의자가 왜 없죠?)', '강창수 해설사님 ', '동물해설사님 칭찬', '강창수 동물 해설사님', '놀이동산 푸드코트 김치가 중국산인 이유는?', '주슨트 설명 최고예요!!', '강창수 주슨트님 최고 !!', 'ZOOCENT 스케줄표?', '호주동물 호주설명 ', '호주및 호주동물 설명에 대해 '] ['https://www.sisul.or.kr/open_content/childrenpark/qna/qnaMsgDetail.do;jsessionid=GJvvAif7wZ34gwWxdwcSCEbWS7L4SLa6HV8UhIuRyrFvL8TKp0CCTLPyC9NpBfl5.etisw2_servlet_user?qnaid=QNAS20210923000005&pgno=1', 'https://www.sisul.or.kr/open_content/childrenpark/qna/qnaMsgDetail.do;jsessionid=GJvvAif7wZ34gwWxdwcSCEbWS7L4SLa6HV8UhIuRyrFvL8TKp0CCTLPyC9NpBfl5.etisw2_servlet_user?qnaid=QNAS20210920000001&pgno=1', 'https://www.sisul.or.kr/open_content/childrenpark/qna/qnaMsgDetail.do;jsessionid=GJvvAif7wZ34gwWxdwcSCEbWS7L4SLa6HV8UhIuRyrFvL8TKp0CCTLPyC9NpBfl5.etisw2_servlet_user?qnaid=QNAS20210919000004&pgno=1', 'https://www.sisul.or.kr/open_content/childrenpark/qna/qnaMsgDetail.do;jsessionid=GJvvAif7wZ34gwWxdwcSCEbWS7L4SLa6HV8UhIuRyrFvL8TKp0CCTLPyC9NpBfl5.etisw2_servlet_user?qnaid=QNAS20210919000003&pgno=1', 'https://www.sisul.or.kr/open_content/childrenpark/qna/qnaMsgDetail.do;jsessionid=GJvvAif7wZ34gwWxdwcSCEbWS7L4SLa6HV8UhIuRyrFvL8TKp0CCTLPyC9NpBfl5.etisw2_servlet_user?qnaid=QNAS20210918000002&pgno=1', 'https://www.sisul.or.kr/open_content/childrenpark/qna/qnaMsgDetail.do;jsessionid=GJvvAif7wZ34gwWxdwcSCEbWS7L4SLa6HV8UhIuRyrFvL8TKp0CCTLPyC9NpBfl5.etisw2_servlet_user?qnaid=QNAS20210909000001&pgno=1', 'https://www.sisul.or.kr/open_content/childrenpark/qna/qnaMsgDetail.do;jsessionid=GJvvAif7wZ34gwWxdwcSCEbWS7L4SLa6HV8UhIuRyrFvL8TKp0CCTLPyC9NpBfl5.etisw2_servlet_user?qnaid=QNAS20210908000004&pgno=1', 'https://www.sisul.or.kr/open_content/childrenpark/qna/qnaMsgDetail.do;jsessionid=GJvvAif7wZ34gwWxdwcSCEbWS7L4SLa6HV8UhIuRyrFvL8TKp0CCTLPyC9NpBfl5.etisw2_servlet_user?qnaid=QNAS20210906000002&pgno=1', 'https://www.sisul.or.kr/open_content/childrenpark/qna/qnaMsgDetail.do;jsessionid=GJvvAif7wZ34gwWxdwcSCEbWS7L4SLa6HV8UhIuRyrFvL8TKp0CCTLPyC9NpBfl5.etisw2_servlet_user?qnaid=QNAS20210904000006&pgno=1', 'https://www.sisul.or.kr/open_content/childrenpark/qna/qnaMsgDetail.do;jsessionid=GJvvAif7wZ34gwWxdwcSCEbWS7L4SLa6HV8UhIuRyrFvL8TKp0CCTLPyC9NpBfl5.etisw2_servlet_user?qnaid=QNAS20210904000004&pgno=1']\n"
     ]
    }
   ],
   "source": [
    "url_head = \"https://www.sisul.or.kr\"\n",
    "\n",
    "url_board = url_head + \"/open_content/childrenpark/qna/qnaMsgList.do?pgno=1\"\n",
    "\n",
    "\n",
    "\n",
    "res = request.urlopen(url_board)\n",
    "soup = BeautifulSoup(res, \"html.parser\")\n",
    "\n",
    "# selector = \"#detail_con > div.generalboard > table > tbody > tr > td.left.title > a\"\n",
    "selector = \"#detail_con > div.generalboard > table > tbody > tr > td.left.title > a\"\n",
    "titles = []\n",
    "links = []\n",
    "for a in soup.select(selector):\n",
    "    titles.append(a.text)\n",
    "    links.append(url_head + a.attrs[\"href\"])\n",
    "    \n",
    "print(titles, links)\n"
   ]
  },
  {
   "cell_type": "code",
   "execution_count": null,
   "id": "3121ae89",
   "metadata": {},
   "outputs": [],
   "source": []
  },
  {
   "cell_type": "markdown",
   "id": "5abdfa88",
   "metadata": {},
   "source": [
    "### 추가 내용\n",
    "수집된 자료를 데이터프레임으로 만들어 csv로 저장하는 것이 일반적입니다"
   ]
  },
  {
   "cell_type": "code",
   "execution_count": 30,
   "id": "c8bf9cc0",
   "metadata": {},
   "outputs": [
    {
     "data": {
      "text/html": [
       "<div>\n",
       "<style scoped>\n",
       "    .dataframe tbody tr th:only-of-type {\n",
       "        vertical-align: middle;\n",
       "    }\n",
       "\n",
       "    .dataframe tbody tr th {\n",
       "        vertical-align: top;\n",
       "    }\n",
       "\n",
       "    .dataframe thead th {\n",
       "        text-align: right;\n",
       "    }\n",
       "</style>\n",
       "<table border=\"1\" class=\"dataframe\">\n",
       "  <thead>\n",
       "    <tr style=\"text-align: right;\">\n",
       "      <th></th>\n",
       "      <th>title</th>\n",
       "      <th>link</th>\n",
       "    </tr>\n",
       "  </thead>\n",
       "  <tbody>\n",
       "    <tr>\n",
       "      <th>0</th>\n",
       "      <td>어린이를 위한 공원내 식당에 아기를 위한 시설 부족(아기의자가 왜 없죠?)</td>\n",
       "      <td>https://www.sisul.or.kr/open_content/childrenp...</td>\n",
       "    </tr>\n",
       "    <tr>\n",
       "      <th>1</th>\n",
       "      <td>강창수 해설사님</td>\n",
       "      <td>https://www.sisul.or.kr/open_content/childrenp...</td>\n",
       "    </tr>\n",
       "    <tr>\n",
       "      <th>2</th>\n",
       "      <td>동물해설사님 칭찬</td>\n",
       "      <td>https://www.sisul.or.kr/open_content/childrenp...</td>\n",
       "    </tr>\n",
       "    <tr>\n",
       "      <th>3</th>\n",
       "      <td>강창수 동물 해설사님</td>\n",
       "      <td>https://www.sisul.or.kr/open_content/childrenp...</td>\n",
       "    </tr>\n",
       "    <tr>\n",
       "      <th>4</th>\n",
       "      <td>놀이동산 푸드코트 김치가 중국산인 이유는?</td>\n",
       "      <td>https://www.sisul.or.kr/open_content/childrenp...</td>\n",
       "    </tr>\n",
       "  </tbody>\n",
       "</table>\n",
       "</div>"
      ],
      "text/plain": [
       "                                       title  \\\n",
       "0  어린이를 위한 공원내 식당에 아기를 위한 시설 부족(아기의자가 왜 없죠?)   \n",
       "1                                  강창수 해설사님    \n",
       "2                                  동물해설사님 칭찬   \n",
       "3                                강창수 동물 해설사님   \n",
       "4                    놀이동산 푸드코트 김치가 중국산인 이유는?   \n",
       "\n",
       "                                                link  \n",
       "0  https://www.sisul.or.kr/open_content/childrenp...  \n",
       "1  https://www.sisul.or.kr/open_content/childrenp...  \n",
       "2  https://www.sisul.or.kr/open_content/childrenp...  \n",
       "3  https://www.sisul.or.kr/open_content/childrenp...  \n",
       "4  https://www.sisul.or.kr/open_content/childrenp...  "
      ]
     },
     "execution_count": 30,
     "metadata": {},
     "output_type": "execute_result"
    }
   ],
   "source": [
    "import pandas as pd\n",
    "\n",
    "\n",
    "board_df = pd.DataFrame({\"title\": titles, \"link\": links})\n",
    "board_df.head()"
   ]
  },
  {
   "cell_type": "code",
   "execution_count": 31,
   "id": "6b6e3836",
   "metadata": {},
   "outputs": [],
   "source": [
    "board_df.to_csv(\"board.csv\", index=False)"
   ]
  },
  {
   "cell_type": "markdown",
   "id": "8af141ee",
   "metadata": {},
   "source": [
    "# 웹 크롤링2 - Dynamic Crawling\n",
    "## 0. 라이브러리\n"
   ]
  },
  {
   "cell_type": "code",
   "execution_count": 114,
   "id": "bc1df957",
   "metadata": {},
   "outputs": [],
   "source": [
    " \n",
    "from selenium import webdriver\n",
    "from selenium.webdriver.common.by import By\n",
    "from selenium.webdriver.support.ui import WebDriverWait\n",
    "from selenium.webdriver.support import expected_conditions as EC\n",
    "from bs4 import BeautifulSoup\n",
    "import pandas as pd\n",
    "from pandas import DataFrame\n",
    "import time\n"
   ]
  },
  {
   "cell_type": "markdown",
   "id": "61fe0648",
   "metadata": {},
   "source": [
    "## 1. Selenium 기초\n",
    "자신의 크롬 버전을 확인하고 크롬 웹드라이버를 다운받아놓아야합니다.\n",
    "\n",
    " - 2020.09.13 기준 최신 버전: 85.0.4183.102\n",
    "1.1. Simple Text Crawling\n",
    "멜론 사이트에서 노래 제목을 크롤링해보자\n",
    "\n",
    "URL: https://www.melon.com/chart/index.htm"
   ]
  },
  {
   "cell_type": "code",
   "execution_count": 132,
   "id": "665a7452",
   "metadata": {},
   "outputs": [],
   "source": [
    "DRIVER_PATH = 'C:/Users/gksquf/OneDrive/Documents/CDesing/chromedriver'"
   ]
  },
  {
   "cell_type": "code",
   "execution_count": 133,
   "id": "2f4fe7c8",
   "metadata": {},
   "outputs": [
    {
     "data": {
      "text/plain": [
       "'STAY\\nThe Kid LAROI, Justin Bieber'"
      ]
     },
     "execution_count": 133,
     "metadata": {},
     "output_type": "execute_result"
    }
   ],
   "source": [
    "# chrome driver 설정\n",
    "driver = webdriver.Chrome(DRIVER_PATH) \n",
    "driver.implicitly_wait(10)\n",
    "\n",
    "url = \"https://www.melon.com/chart/index.htm\"\n",
    "\n",
    "driver.get(url)\n",
    "html = driver.page_source\n",
    "soup = BeautifulSoup(html, 'html.parser')\n",
    "\n",
    "# title crawling\n",
    "title = WebDriverWait(driver, 20) \\\n",
    "   .until(EC.presence_of_element_located((By.CSS_SELECTOR, \"#frm > div > table > tbody > tr:nth-child(1) > td:nth-child(6) > div > div\")))#td:nth-child(4)부분 소스코드 에러로 6으로 변경 후 실행\n",
    "\n",
    "# print(\"Title: {}\".format(title.text))\n",
    "\n",
    "title.text"
   ]
  },
  {
   "cell_type": "markdown",
   "id": "9e5cdacb",
   "metadata": {},
   "source": [
    "css selector의 규칙을 찾아본다\n",
    "\n",
    "- 1번째 제목: #frm > div > table > tbody > tr:nth-child(1) > td:nth-child(4) > div > div\"\n",
    "- 2번째 제목: #frm > div > table > tbody > tr:nth-child(2) > td:nth-child(4) > div > div\n",
    "\n",
    ". . .\n",
    "\n",
    "- 100번째 제목: #frm > div > table > tbody > tr:nth-child(100) > td:nth-child(4) > div > div\n",
    "또는 XPATH로도 확인해보자 (full Xpath)\n",
    "\n",
    "- 1번째 제목: //*[@id=\"frm\"]/div/table/tbody/tr[1]/td[4]/div/div\n",
    "- 2번째 제목: //*[@id=\"frm\"]/div/table/tbody/tr[2]/td[4]/div/div\n",
    "\n",
    ". . .\n",
    "\n",
    "- 50번째 제목: //*[@id=\"frm\"]/div/table/tbody/tr[100]/td[4]/div/div"
   ]
  },
  {
   "cell_type": "code",
   "execution_count": 117,
   "id": "771e86b0",
   "metadata": {},
   "outputs": [
    {
     "data": {
      "text/plain": [
       "'My Universe\\nColdplay, 방탄소년단'"
      ]
     },
     "execution_count": 117,
     "metadata": {},
     "output_type": "execute_result"
    }
   ],
   "source": [
    "# 2번째 제목 크롤링\n",
    "WebDriverWait(driver, 20) \\\n",
    "    .until(EC.presence_of_element_located((By.XPATH, \"//*[@id='frm']/div/table/tbody/tr[2]/td[6]/div/div\"))).text"
   ]
  },
  {
   "cell_type": "markdown",
   "id": "a435e97c",
   "metadata": {},
   "source": [
    "### 1.2. Text Crawling with for loop\n",
    "위에서 찾은 Xpath의 규칙을 바탕으로 for loop 만들자"
   ]
  },
  {
   "cell_type": "code",
   "execution_count": 118,
   "id": "20f51371",
   "metadata": {},
   "outputs": [
    {
     "name": "stdout",
     "output_type": "stream",
     "text": [
      "['STAY\\nThe Kid LAROI, Justin Bieber', 'My Universe\\nColdplay, 방탄소년단', '신호등\\n이무진', 'Permission to Dance\\n방탄소년단', 'OHAYO MY NIGHT\\n디핵 (D-Hack), PATEKO (파테코)', 'Next Level\\naespa', 'Butter\\n방탄소년단', '바라만 본다\\nMSG워너비(M.O.M)', '낙하 (with 아이유)\\nAKMU (악뮤)', 'Weekend\\n태연 (TAEYEON)', 'Dynamite\\n방탄소년단', '좋아좋아\\n조정석', 'Queendom\\nRed Velvet (레드벨벳)', 'Peaches (Feat. Daniel Caesar & Giveon)\\nJustin Bieber', 'DUMB DUMB\\n전소미', 'Bad Habits\\nEd Sheeran', '시간을 거슬러 (낮에 뜨는 달 X 케이윌)\\n케이윌', '다정히 내 이름을 부르면\\n경서예지, 전건호', '이제 나만 믿어요\\n임영웅', '헤픈 우연\\n헤이즈 (Heize)', '가을 타나 봐\\n이무진', 'Sticker\\nNCT 127', '비와 당신\\n이무진', '별빛 같은 나의 사랑아\\n임영웅', 'Savage Love (Laxed - Siren Beat) (BTS Remix)\\nJawsh 685, Jason Derulo, 방탄소년단', \"롤린 (Rollin')\\n브레이브걸스\", 'Dun Dun Dance\\n오마이걸 (OH MY GIRL)', '작은 것들을 위한 시 (Boy With Luv) (Feat. Halsey)\\n방탄소년단', '라일락\\n아이유', '그대라는 사치\\n임영웅', '고백\\n멜로망스', 'HERO\\n임영웅', 'ASAP\\nSTAYC(스테이씨)', 'Lemonade\\nNCT 127', '다시 사랑한다면 (김필 Ver.)\\n임영웅', 'Celebrity\\n아이유', '봄날\\n방탄소년단', '사이렌 Remix (Feat. UNEDUCATED KID, Paul Blanco)\\n호미들', '색안경 (STEREOTYPE)\\nSTAYC(스테이씨)', '비가 오는 날엔 (2021)\\n헤이즈 (Heize)', '끝사랑\\n임영웅', 'Life Goes On\\n방탄소년단', '가을 우체국 앞에서\\n김대명', 'Bk Love\\n임영웅', '잊었니\\n임영웅', '찰나가 영원이 될 때 (The Eternal Moment)\\n마크툽 (MAKTUB)', '밝게 빛나는 별이 되어 비춰줄게\\n송이한', '하루만 더\\n빅마마', 'Road Trip\\nNCT 127', '내 손을 잡아\\n아이유']\n"
     ]
    }
   ],
   "source": [
    " # chrome driver 설정\n",
    "driver = webdriver.Chrome(DRIVER_PATH)\n",
    "driver.implicitly_wait(10)\n",
    "\n",
    "url = \"https://www.melon.com/chart/index.htm\"\n",
    "\n",
    "driver.get(url)\n",
    "html = driver.page_source\n",
    "soup = BeautifulSoup(html, 'html.parser')\n",
    "\n",
    "# 빈 리스트 변수\n",
    "title_list = []\n",
    "\n",
    "# title crawling (TOP 50)\n",
    "for i in range(1, 51):\n",
    "    title = WebDriverWait(driver, 20) \\\n",
    "        .until(EC.presence_of_element_located((By.XPATH, f\"//*[@id='frm']/div/table/tbody/tr[{i}]/td[6]/div/div\")))\n",
    "    title_list.append(title.text)\n",
    "    \n",
    "print(title_list)"
   ]
  },
  {
   "cell_type": "markdown",
   "id": "11847391",
   "metadata": {},
   "source": [
    "### 1.3. Text Crawling (Click & Back)\n",
    "클릭하고 나오기 -> 동적 크롤링 가능 (가사 크롤링 가능)\n",
    "\n",
    "노래 제목에 링크가 걸려있기 때문에, 해당 링크까지의 XPath를 추가한다."
   ]
  },
  {
   "cell_type": "code",
   "execution_count": 127,
   "id": "4094170a",
   "metadata": {},
   "outputs": [],
   "source": [
    " # chrome driver 설정\n",
    "driver = webdriver.Chrome(DRIVER_PATH)\n",
    "driver.implicitly_wait(10)\n",
    "\n",
    "url = \"https://www.melon.com/chart/index.htm\"\n",
    "\n",
    "driver.get(url)\n",
    "html = driver.page_source\n",
    "soup = BeautifulSoup(html, 'html.parser')\n",
    "\n",
    "# 1번째 click하기\n",
    "click_element = WebDriverWait(driver, 20).until(EC.presence_of_element_located((By.XPATH, '//*[@id=\"frm\"]/div/table/tbody/tr[1]/td[5]/div/a')))\n",
    "click_element.click()    \n",
    "\n",
    "# back\n",
    "driver.back()\n",
    "\n",
    "\n",
    "# 2번째 click하기\n",
    "click_element = WebDriverWait(driver, 20).until(EC.presence_of_element_located((By.XPATH, '//*[@id=\"frm\"]/div/table/tbody/tr[2]/td[5]/div/a')))\n",
    "click_element.click()    \n",
    "\n",
    "# back\n",
    "driver.back()"
   ]
  },
  {
   "cell_type": "markdown",
   "id": "d5cb9a9d",
   "metadata": {},
   "source": [
    "### 1.4. Text Crawling including contents\n",
    "- 1.2처럼 for문과 함께 써보자! (첫 페이지 5개의 글에 대해 title, artist, heart(하트 갯수), lyrics(가사)를 크롤링\n",
    "\n",
    "- 1.3에서 사용한 click & back을 활용하자"
   ]
  },
  {
   "cell_type": "code",
   "execution_count": 126,
   "id": "92e44f59",
   "metadata": {},
   "outputs": [
    {
     "name": "stdout",
     "output_type": "stream",
     "text": [
      "['STAY', 'My Universe', '신호등', 'Permission to Dance', 'OHAYO MY NIGHT']\n",
      "['The Kid LAROI', 'Coldplay', '이무진', '방탄소년단', '디핵 (D-Hack)']\n",
      "['151,352', '62,896', '214,613', '175,970', '132,687']\n",
      "[\"I do the same thing I told you\\nthat I never would\\nI told you I'd change\\neven when I knew I never could\\nI know that I can't find\\nnobody else\\nas good as you\\nI need you to stay\\nneed you to stay hey Oh\\nI get drunk wake up\\nI'm wasted still\\nI realize the time\\nthat I wasted here\\nI feel like you can't\\nfeel the way I feel\\nOh I'll be fucked up\\nif you can't be right here\\nOh ooh-woah\\nOh ooh-woah ooh-woah\\nOh ooh-woah\\nOh ooh-woah ooh-woah\\nOh ooh-woah\\nOh ooh-woah ooh-woah\\nOh I'll be fucked up\\nif you can't be right here\\nI do the same thing I told you\\nthat I never would\\nI told you I'd change\\neven when I knew I never could\\nI know that I can't find\\nnobody else\\nas good as you\\nI need you to stay\\nneed you to stay hey\\nI do the same thing I told you\\nthat I never would\\nI told you I'd change\\neven when I knew I never could\\nI know that I can't find\\nnobody else\\nas good as you\\nI need you to stay\\nneed you to stay hey\\nWhen I'm away from you\\nI miss your touch Ooh\\nYou're the reason\\nI believe in love Ooh\\nIt's been difficult\\nfor me to trust Ooh\\nAnd I'm afraid\\nthat I'ma fuck it up Ooh\\nAin't no way\\nthat I can leave you stranded\\n'Cause you ain't ever left me\\nempty-handed\\nAnd you know that I know\\nthat I can't live without you\\nSo baby stay\\nOh ooh-woah\\nOh ooh-woah ooh-woah\\nOh ooh-woah\\nOh ooh-woah ooh-woah\\nOh ooh-woah\\nOh ooh-woah ooh-woah\\nI'll be fucked up\\nif you can't be right here\\nI do the same thing I told you\\nthat I never would\\nI told you I'd change\\neven when I knew I never could\\nI know that I can't find\\nnobody else\\nas good as you\\nI need you to stay\\nneed you to stay hey\\nI do the same thing\\nI told you that I never would\\nI told you I'd change\\neven when I knew I never could\\nI know that I can't find\\nnobody else\\nas good as you\\nI need you to stay\\nneed you to stay hey\\nWoah-oh\\nI need you to stay\\nneed you to stay hey\", 'You, you are my universe and\\nI just want to put you first\\nAnd you, you are my universe, and I…\\n\\nIn the night I lie and look up at you\\nWhen the morning comes I watch you rise\\nThere’s a paradise they couldn’t capture\\nThat bright infinity inside your eyes\\n\\n매일 밤 네게 날아가 (가)\\n꿈이란 것도 잊은 채\\n나 웃으며 너를 만나 (나)\\nNever ending forever baby\\n\\nYou, you are my universe and\\nI just want to put you first\\nAnd you, you are my universe, and\\nYou make my world light up inside\\n\\n어둠이 내겐 더 편했었지\\n길어진 그림자 속에서 (eyes)\\n\\nAnd they said that we can’t be together\\nBecause\\nBecause we come from different sides\\n\\nYou, you are my universe and\\nI just want to put you first\\nAnd you, you are my universe, and\\nYou make my world light up inside\\n\\nMy universe (do do, do do)\\nMy universe (do do, do do)\\nMy universe (do do, do do)\\n(you make my world)\\nYou make my world light up inside\\n\\nMake my world light up inside\\n\\n나를 밝혀주는 건\\n너란 사랑으로 수 놓아진 별\\n내 우주의 넌\\n또 다른 세상을 만들어 주는 걸\\n\\n너는 내 별이자 나의 우주니까\\n지금 이 시련도 결국엔 잠시니까\\n너는 언제까지나 지금처럼 밝게만 빛나줘\\n우리는 너를 따라 이 긴 밤을 수놓을 거야\\n\\n너와 함께 날아가 (가)\\nWhen I’m without you I’m crazy\\n자 어서 내 손을 잡아 (아)\\nWe are made of each other baby\\n\\nYou, you are my universe and\\nI just want to put you first\\nAnd you, you are my universe, and\\nYou make my world light up inside\\n\\nMy universe (you, you are)\\nMy universe (I just want)\\nMy universe (you, you are)\\nMy universe, and I\\n\\nMy universe', '이제야 목적지를 정했지만\\n가려한 날 막아서네 난 갈 길이 먼데\\n새빨간 얼굴로 화를 냈던\\n친구가 생각나네\\n이미 난 발걸음을 떼었지만\\n가려한 날 재촉하네 걷기도 힘든데\\n새파랗게 겁에 질려 도망간\\n친구가 뇌에 맴도네\\n건반처럼 생긴 도로 위\\n수많은 동그라미들 모두가\\n멈췄다 굴렀다 말은 잘 들어\\n그건 나도 문제가 아냐\\n붉은색 푸른색 그 사이\\n3초 그 짧은 시간\\n노란색 빛을 내는\\n저기 저 신호등이\\n내 머릿속을 텅 비워버려\\n내가 빠른지도\\n느린지도 모르겠어\\n그저 눈앞이 샛노랄 뿐이야\\n솔직히 말하자면 차라리\\n운전대를 못 잡던 어릴 때가\\n더 좋았었던 것 같아\\n그땐 함께 온 세상을\\n거닐 친구가 있었으니\\n건반처럼 생긴 도로 위\\n수많은 조명들이 날 빠르게\\n번갈아 가며 비추고 있지만\\n난 아직 초짜란 말이야\\n붉은색 푸른색 그 사이\\n3초 그 짧은 시간\\n노란색 빛을 내는 저기 저 신호등이\\n내 머릿속을 텅 비워버려\\n내가 빠른지도\\n느린지도 모르겠어\\n그저 눈앞이 샛노랄 뿐이야\\n꼬질꼬질한 사람이나\\n부자 곁엔 아무도 없는\\n삼색 조명과 이색 칠 위에\\n서 있어 괴롭히지 마\\n붉은색 푸른색 그 사이\\n3초 그 짧은 시간\\n노란색 빛을 내는 저기 저 신호등이\\n내 머릿속을 텅 비워버려\\n내가 빠른지도\\n느린지도 모르겠어\\n그저 눈앞이 샛노랄 뿐이야', 'It’s the thought of being young\\nWhen your heart’s just like a drum\\nBeating louder with no way to guard it\\nWhen it all seems like it’s wrong\\nJust sing along to Elton John\\nAnd to that feeling, we’re just getting started\\n\\nWhen the nights get colder\\nAnd the rhythms got you falling behind\\nJust dream about that moment\\nWhen you look yourself right in the eye, eye, eye\\nThen you say\\n\\nI wanna dance\\nThe music’s got me going\\nAin’t nothing that can stop how we move yeah\\nLet’s break our plans\\nAnd live just like we’re golden\\nAnd roll in like we’re dancing fools\\n\\nWe don’t need to worry\\n‘Cause when we fall we know how to land\\nDon’t need to talk the talk, just walk the walk tonight\\n‘Cause we don’t need permission to dance\\n\\nThere’s always something that’s standing in the way\\nBut if you don’t let it faze ya\\nYou’ll know just how to break\\nJust keep the right vibe yeah\\n‘Cause there’s no looking back\\nThere ain’t no one to prove\\nWe don’t got this on lock yeah\\n\\nThe wait is over\\nThe time is now so let’s do it right\\nYeah we’ll keep going\\nAnd stay up until we see the sunrise\\nAnd we’ll say\\n\\nI wanna dance\\nThe music’s got me going\\nAin’t nothing that can stop how we move yeah\\nLet’s break our plans\\nAnd live just like we’re golden\\nAnd roll in like we’re dancing fools\\n\\nWe don’t need to worry\\n‘Cause when we fall we know how to land\\nDon’t need to talk the talk, just walk the walk tonight\\n‘Cause we don’t need permission to dance\\n\\nDa na na na na na na\\nDa na na na na na na\\nDa na na na na na na\\nNo, we don’t need permission to dance\\n\\nDa na na na na na na\\nDa na na na na na na\\nDa na na na na na na\\n\\nWell let me show ya\\nThat we can keep the fire alive\\n‘Cause it’s not over\\nTill it’s over say it one more time\\nSay\\n\\nI wanna dance\\nThe music’s got me going\\nAin’t nothing that can stop how we move yeah\\nLet’s break our plans\\nAnd live just like we’re golden\\nAnd roll in like we’re dancing fools\\n\\nWe don’t need to worry\\n‘Cause when we fall we know how to land\\nDon’t need to talk the talk, just walk the walk tonight\\n‘Cause we don’t need permission to dance', '너를 사랑하고 있어\\n너를 사랑하고 있어\\n자기야 날 사랑해주면 안 될까\\n말처럼 쉽지는 않은 걸 알지만\\n세게 날 안아주면 안 될까\\n오늘따라 세상이 무섭단 말이야\\n잠깐 인공호흡을 해주라\\n왠지 숨이 잘 안 쉬어져서 난\\n날 놓을 거면 과거에 놔주라\\n네가 있는 시간에서 죽어갈 거야\\n우리 그냥 결혼하면 안 될까\\n돈은 내가 열심히 벌 테니까\\n이 세상과 내가 눈감는 날\\n까지만 날 사랑한다 말해주라\\n내가 너를 사랑해도\\n네가 날 안 사랑해도\\n우린 나름대로 행복할 거야\\n내 방 천장에 그려 본\\n내 우주에게 물어본\\n말은 나를 사랑하면 안 될까\\n오사카나 오키나와의 바다\\n내 뮤비들을 찍었던 곳 말이야\\n같이 가자 약속했었잖아\\n그 약속이 깨질까 봐 겁이 나\\nWHUTUF이 결혼한다 하던 날\\n진짜 처음으로 걔가 부럽더라\\n하얀 웨딩드레스를 입은 아름다운\\n너와 영원을 말할 수 있을까\\n가족이 되어주라\\n내 집이 되어주라\\n나도 날 줄 테니 너도 널 주라\\n평생의 연인이야\\n네 말대로 말이야\\n그래 별과 우주잖아\\n날 사랑하지 않는다면\\n나의 사랑 반을 받아\\n남은 사랑의 반도\\n내가 채워줄 거야 꼭\\n내가 너를 사랑해도\\n네가 날 안 사랑해도\\n우린 나름대로 행복할 거야\\n내 방 천장에 그려 본\\n내 우주에게 물어본\\n말은 나를 사랑하면 안 될까\\n내가 너를 사랑해도\\n네가 날 안 사랑해도\\n우린 나름대로 행복할 거야\\n내 방 천장에 그려 본\\n내 우주에게 물어본\\n말은 나를 사랑하면 안 될까']\n"
     ]
    }
   ],
   "source": [
    " # chrome driver 설정\n",
    "driver = webdriver.Chrome(DRIVER_PATH)\n",
    "driver.implicitly_wait(10)\n",
    "\n",
    "url = \"https://www.melon.com/chart/index.htm\"\n",
    "driver.get(url)\n",
    "html = driver.page_source\n",
    "soup = BeautifulSoup(html, 'html.parser')\n",
    "\n",
    "# 빈 리스트 변수\n",
    "title_list = []\n",
    "artist_list = []\n",
    "heart_list = []\n",
    "lyrics_list = []\n",
    "\n",
    "# crawling (TOP 5) 5개씩 크롤링하기\n",
    "for i in range(1, 6):\n",
    "    # click\n",
    "    click_element = WebDriverWait(driver, 20) \\\n",
    "        .until(EC.presence_of_element_located((By.XPATH, f'//*[@id=\"frm\"]/div/table/tbody/tr[{i}]/td[5]/div/a')))\n",
    "    click_element.click()\n",
    "\n",
    "    # title crawling 제목\n",
    "    title = WebDriverWait(driver, 20).until(\n",
    "        EC.presence_of_element_located((By.CSS_SELECTOR, \"#downloadfrm > div > div > div.entry > div.info > div.song_name\")))\n",
    "    title_list.append(title.text)\n",
    "\n",
    "    # artist crawling 가수\n",
    "    artist = WebDriverWait(driver, 20).until(\n",
    "        EC.presence_of_element_located((By.CSS_SELECTOR, \"#downloadfrm > div > div > div.entry > div.info > div.artist > a > span:nth-child(1)\")))\n",
    "    artist_list.append(artist.text)\n",
    "    \n",
    "    # heart crawling 좋아요\n",
    "    heart = WebDriverWait(driver, 20).until(\n",
    "        EC.presence_of_element_located((By.CSS_SELECTOR, \"#d_like_count\")))\n",
    "    heart_list.append(heart.text)\n",
    "\n",
    "    # lyrics crawling가사\n",
    "    lyrics = WebDriverWait(driver, 20).until(\n",
    "        EC.presence_of_element_located((By.CSS_SELECTOR, \"#d_video_summary\")))\n",
    "    lyrics_list.append(lyrics.text)\n",
    "    \n",
    "    # back\n",
    "    driver.back()\n",
    "    \n",
    "print(title_list)\n",
    "print(artist_list)\n",
    "print(heart_list)\n",
    "print(lyrics_list)"
   ]
  },
  {
   "cell_type": "markdown",
   "id": "74ba0b5b",
   "metadata": {},
   "source": [
    "#### TIP: 보통은 결과값을 데이터프레임 형태로 저장한다"
   ]
  },
  {
   "cell_type": "code",
   "execution_count": 128,
   "id": "c24fed9d",
   "metadata": {},
   "outputs": [],
   "source": [
    "# 결과 변수\n",
    "raw_result = {'title': title_list,\n",
    "              'artist': artist_list,\n",
    "              'heart': heart_list,\n",
    "          'lyrics': lyrics_list}\n",
    "\n",
    "result = pd.DataFrame(raw_result)\n",
    "\n",
    "# # csv 파일로 save\n",
    "# result.to_csv(\"MelonTop5\", mode='w')\n",
    "\n",
    "# driver 종료\n",
    "driver.quit()"
   ]
  },
  {
   "cell_type": "code",
   "execution_count": 129,
   "id": "55164144",
   "metadata": {},
   "outputs": [
    {
     "data": {
      "text/html": [
       "<div>\n",
       "<style scoped>\n",
       "    .dataframe tbody tr th:only-of-type {\n",
       "        vertical-align: middle;\n",
       "    }\n",
       "\n",
       "    .dataframe tbody tr th {\n",
       "        vertical-align: top;\n",
       "    }\n",
       "\n",
       "    .dataframe thead th {\n",
       "        text-align: right;\n",
       "    }\n",
       "</style>\n",
       "<table border=\"1\" class=\"dataframe\">\n",
       "  <thead>\n",
       "    <tr style=\"text-align: right;\">\n",
       "      <th></th>\n",
       "      <th>title</th>\n",
       "      <th>artist</th>\n",
       "      <th>heart</th>\n",
       "      <th>lyrics</th>\n",
       "    </tr>\n",
       "  </thead>\n",
       "  <tbody>\n",
       "    <tr>\n",
       "      <th>0</th>\n",
       "      <td>STAY</td>\n",
       "      <td>The Kid LAROI</td>\n",
       "      <td>151,352</td>\n",
       "      <td>I do the same thing I told you\\nthat I never w...</td>\n",
       "    </tr>\n",
       "    <tr>\n",
       "      <th>1</th>\n",
       "      <td>My Universe</td>\n",
       "      <td>Coldplay</td>\n",
       "      <td>62,896</td>\n",
       "      <td>You, you are my universe and\\nI just want to p...</td>\n",
       "    </tr>\n",
       "    <tr>\n",
       "      <th>2</th>\n",
       "      <td>신호등</td>\n",
       "      <td>이무진</td>\n",
       "      <td>214,613</td>\n",
       "      <td>이제야 목적지를 정했지만\\n가려한 날 막아서네 난 갈 길이 먼데\\n새빨간 얼굴로 화...</td>\n",
       "    </tr>\n",
       "    <tr>\n",
       "      <th>3</th>\n",
       "      <td>Permission to Dance</td>\n",
       "      <td>방탄소년단</td>\n",
       "      <td>175,970</td>\n",
       "      <td>It’s the thought of being young\\nWhen your hea...</td>\n",
       "    </tr>\n",
       "    <tr>\n",
       "      <th>4</th>\n",
       "      <td>OHAYO MY NIGHT</td>\n",
       "      <td>디핵 (D-Hack)</td>\n",
       "      <td>132,687</td>\n",
       "      <td>너를 사랑하고 있어\\n너를 사랑하고 있어\\n자기야 날 사랑해주면 안 될까\\n말처럼 ...</td>\n",
       "    </tr>\n",
       "  </tbody>\n",
       "</table>\n",
       "</div>"
      ],
      "text/plain": [
       "                 title         artist    heart  \\\n",
       "0                 STAY  The Kid LAROI  151,352   \n",
       "1          My Universe       Coldplay   62,896   \n",
       "2                  신호등            이무진  214,613   \n",
       "3  Permission to Dance          방탄소년단  175,970   \n",
       "4       OHAYO MY NIGHT    디핵 (D-Hack)  132,687   \n",
       "\n",
       "                                              lyrics  \n",
       "0  I do the same thing I told you\\nthat I never w...  \n",
       "1  You, you are my universe and\\nI just want to p...  \n",
       "2  이제야 목적지를 정했지만\\n가려한 날 막아서네 난 갈 길이 먼데\\n새빨간 얼굴로 화...  \n",
       "3  It’s the thought of being young\\nWhen your hea...  \n",
       "4  너를 사랑하고 있어\\n너를 사랑하고 있어\\n자기야 날 사랑해주면 안 될까\\n말처럼 ...  "
      ]
     },
     "execution_count": 129,
     "metadata": {},
     "output_type": "execute_result"
    }
   ],
   "source": [
    "result"
   ]
  },
  {
   "cell_type": "markdown",
   "id": "5863c16e",
   "metadata": {},
   "source": [
    "## 2. Image Crawling\n",
    "이미지 크롤링하기\n",
    "\n",
    " - 1번째 이미지: /html/body/div/div[3]/div/div/div[4]/form/div/table/tbody/tr[1]/td[4]/div/a/img\n",
    " - 2번째 이미지: /html/body/div/div[3]/div/div/div[4]/form/div/table/tbody/tr[2]/td[4]/div/a/img\n",
    " \n",
    "...\n",
    "\n",
    " - 50번째 이미지: /html/body/div/div[3]/div/div/div[4]/form/div/table/tbody/tr[50]/td[4]/div/a/img\n",
    "#### STEP1. URL Crawling"
   ]
  },
  {
   "cell_type": "code",
   "execution_count": 130,
   "id": "d003a12d",
   "metadata": {},
   "outputs": [
    {
     "name": "stdout",
     "output_type": "stream",
     "text": [
      "['https://cdnimg.melon.co.kr/cm2/album/images/106/46/395/10646395_20210707141710_500.jpg/melon/resize/120/quality/80/optimize', 'https://cdnimg.melon.co.kr/cm2/album/images/107/20/913/10720913_20210923173742_500.jpg/melon/resize/120/quality/80/optimize', 'https://cdnimg.melon.co.kr/cm2/album/images/106/07/796/10607796_20210513201807_500.jpg/melon/resize/120/quality/80/optimize', 'https://cdnimg.melon.co.kr/cm2/album/images/106/48/182/10648182_20210709104950_500.jpg/melon/resize/120/quality/80/optimize', 'https://cdnimg.melon.co.kr/cm2/album/images/104/47/520/10447520_20200619123343_500.jpg/melon/resize/120/quality/80/optimize', 'https://cdnimg.melon.co.kr/cm2/album/images/106/09/232/10609232_20210517155130_500.jpg/melon/resize/120/quality/80/optimize', 'https://cdnimg.melon.co.kr/cm2/album/images/106/12/483/10612483_20210521111412_500.jpg/melon/resize/120/quality/80/optimize', 'https://cdnimg.melon.co.kr/cm2/album/images/106/38/275/10638275_20210625172521_500.jpg/melon/resize/120/quality/80/optimize', 'https://cdnimg.melon.co.kr/cm2/album/images/106/61/658/10661658_20210726111159_500.jpg/melon/resize/120/quality/80/optimize', 'https://cdnimg.melon.co.kr/cm2/album/images/106/45/654/10645654_20210706155154_500.jpg/melon/resize/120/quality/80/optimize', 'https://cdnimg.melon.co.kr/cm2/album/images/104/79/150/10479150_20200918102847_500.jpg/melon/resize/120/quality/80/optimize', 'https://cdnimg.melon.co.kr/cm2/album/images/106/53/694/10653694_20210715164901_500.jpg/melon/resize/120/quality/80/optimize', 'https://cdnimg.melon.co.kr/cm2/album/images/106/80/450/10680450_20210813124748_500.jpg/melon/resize/120/quality/80/optimize', 'https://cdnimg.melon.co.kr/cm2/album/images/105/80/103/10580103_20210319132819_500.jpg/melon/resize/120/quality/80/optimize', 'https://cdnimg.melon.co.kr/cm2/album/images/106/67/450/10667450_20210802111127_500.jpg/melon/resize/120/quality/80/optimize', 'https://cdnimg.melon.co.kr/cm2/album/images/106/37/411/10637411_20210909170255_500.jpg/melon/resize/120/quality/80/optimize', 'https://cdnimg.melon.co.kr/cm2/album/images/106/98/116/10698116_20210831104635_500.jpg/melon/resize/120/quality/80/optimize', 'https://cdnimg.melon.co.kr/cm2/album/images/106/10/525/10610525_20210518143433_500.jpg/melon/resize/120/quality/80/optimize', 'https://cdnimg.melon.co.kr/cm2/album/images/104/12/319/10412319_20200403103006_500.jpg/melon/resize/120/quality/80/optimize', 'https://cdnimg.melon.co.kr/cm2/album/images/106/11/845/10611845_20210520170350_500.jpg/melon/resize/120/quality/80/optimize', 'https://cdnimg.melon.co.kr/cm2/album/images/107/12/767/10712767_20210913165623_500.jpg/melon/resize/120/quality/80/optimize', 'https://cdnimg.melon.co.kr/cm2/album/images/107/03/942/10703942_20210917110116_500.jpg/melon/resize/120/quality/80/optimize', 'https://cdnimg.melon.co.kr/cm2/album/images/106/31/122/10631122_20210617142653_500.jpg/melon/resize/120/quality/80/optimize', 'https://cdnimg.melon.co.kr/cm2/album/images/105/75/005/10575005_20210309113840_500.jpg/melon/resize/120/quality/80/optimize', 'https://cdnimg.melon.co.kr/cm2/album/images/104/98/123/10498123_20201002094556_500.jpg/melon/resize/120/quality/80/optimize', 'https://cdnimg.melon.co.kr/cm2/album/images/100/43/575/10043575_20210302112520_500.jpg/melon/resize/120/quality/80/optimize', 'https://cdnimg.melon.co.kr/cm2/album/images/106/04/729/10604729_20210510143932_500.jpg/melon/resize/120/quality/80/optimize', 'https://cdnimg.melon.co.kr/cm/album/images/102/73/641/10273641_500.jpg/melon/resize/120/quality/80/optimize', 'https://cdnimg.melon.co.kr/cm2/album/images/105/54/246/10554246_20210325161233_500.jpg/melon/resize/120/quality/80/optimize', 'https://cdnimg.melon.co.kr/cm2/album/images/106/44/845/10644845_20210705203115_500.jpg/melon/resize/120/quality/80/optimize', 'https://cdnimg.melon.co.kr/cm2/album/images/106/95/590/10695590_20210827162225_500.jpg/melon/resize/120/quality/80/optimize', 'https://cdnimg.melon.co.kr/cm2/album/images/105/13/079/10513079_20201103201136_500.jpg/melon/resize/120/quality/80/optimize', 'https://cdnimg.melon.co.kr/cm2/album/images/105/89/127/10589127_20210407175809_500.jpg/melon/resize/120/quality/80/optimize', 'https://cdnimg.melon.co.kr/cm2/album/images/107/03/942/10703942_20210917110116_500.jpg/melon/resize/120/quality/80/optimize', 'https://cdnimg.melon.co.kr/cm2/album/images/106/14/238/10614238_20210525100205_500.jpg/melon/resize/120/quality/80/optimize', 'https://cdnimg.melon.co.kr/cm2/album/images/105/54/246/10554246_20210325161233_500.jpg/melon/resize/120/quality/80/optimize', 'https://cdnimg.melon.co.kr/cm/album/images/100/37/969/10037969_500.jpg/melon/resize/120/quality/80/optimize', 'https://cdnimg.melon.co.kr/cm2/album/images/105/80/227/10580227_20210319163608_500.jpg/melon/resize/120/quality/80/optimize', 'https://cdnimg.melon.co.kr/cm2/album/images/107/04/178/10704178_20210906141809_500.jpg/melon/resize/120/quality/80/optimize', 'https://cdnimg.melon.co.kr/cm2/album/images/106/70/618/10670618_20210804111639_500.jpg/melon/resize/120/quality/80/optimize', 'https://cdnimg.melon.co.kr/cm2/album/images/106/39/384/10639384_20210628195604_500.jpg/melon/resize/120/quality/80/optimize', 'https://cdnimg.melon.co.kr/cm2/album/images/105/21/521/10521521_20201120112220_500.jpg/melon/resize/120/quality/80/optimize', 'https://cdnimg.melon.co.kr/cm2/album/images/106/36/269/10636269_20210625102856_500.jpg/melon/resize/120/quality/80/optimize', 'https://cdnimg.melon.co.kr/cm2/album/images/106/32/758/10632758_20210621102906_500.jpg/melon/resize/120/quality/80/optimize', 'https://cdnimg.melon.co.kr/cm2/album/images/106/33/915/10633915_20210622101307_500.jpg/melon/resize/120/quality/80/optimize', 'https://cdnimg.melon.co.kr/cm2/album/images/107/16/174/10716174_20210916153439_500.jpg/melon/resize/120/quality/80/optimize', 'https://cdnimg.melon.co.kr/cm2/album/images/105/40/298/10540298_20201229150823_500.jpg/melon/resize/120/quality/80/optimize', 'https://cdnimg.melon.co.kr/cm2/album/images/106/36/091/10636091_20210624104623_500.jpg/melon/resize/120/quality/80/optimize', 'https://cdnimg.melon.co.kr/cm2/album/images/107/03/942/10703942_20210917110116_500.jpg/melon/resize/120/quality/80/optimize', 'https://cdnimg.melon.co.kr/cm/album/images/012/86/252/1286252_500.jpg/melon/resize/120/quality/80/optimize']\n"
     ]
    }
   ],
   "source": [
    " # chrome driver 설정\n",
    "driver = webdriver.Chrome(DRIVER_PATH)\n",
    "driver.implicitly_wait(10)\n",
    "\n",
    "url = \"https://www.melon.com/chart/index.htm\"\n",
    "\n",
    "driver.get(url)\n",
    "html = driver.page_source\n",
    "soup = BeautifulSoup(html, 'html.parser')\n",
    "\n",
    "# 빈 리스트 변수\n",
    "link_list = []\n",
    "\n",
    "# # img crawling (TOP 50)\n",
    "for i in range(1, 51):# 50개의 이미지 크롤링하기\n",
    "    \n",
    "    img = WebDriverWait(driver, 20) \\\n",
    "        .until(EC.presence_of_element_located((By.CSS_SELECTOR, f\"#frm > div > table > tbody > tr:nth-child({i}) > td:nth-child(4) > div > a > img\")))\n",
    "\n",
    "    link_list.append(img.get_attribute('src'))#빈 리스트에 추가하여 저장\n",
    "\n",
    "print(link_list)"
   ]
  },
  {
   "cell_type": "markdown",
   "id": "333d84cf",
   "metadata": {},
   "source": [
    "#### STEP2. Download images using URLs\n",
    "자신의 디렉토리에 img 폴더 생성하고 실행"
   ]
  },
  {
   "cell_type": "code",
   "execution_count": 136,
   "id": "d8ce10f6",
   "metadata": {},
   "outputs": [],
   "source": [
    "import urllib.request\n",
    "\n",
    "count = 0\n",
    "for link in link_list:#limk_list의 이미지 모으기\n",
    "    count += 1\n",
    "    urllib.request.urlretrieve(link, 'C:/Users/gksquf/OneDrive/Documents/CDesing/img/img' + str(count) + '.jpg')\n",
    "    #img파일을 생성하고 생성한 파일에 이미지 저장"
   ]
  }
 ],
 "metadata": {
  "kernelspec": {
   "display_name": "Python 3",
   "language": "python",
   "name": "python3"
  },
  "language_info": {
   "codemirror_mode": {
    "name": "ipython",
    "version": 3
   },
   "file_extension": ".py",
   "mimetype": "text/x-python",
   "name": "python",
   "nbconvert_exporter": "python",
   "pygments_lexer": "ipython3",
   "version": "3.8.8"
  }
 },
 "nbformat": 4,
 "nbformat_minor": 5
}
